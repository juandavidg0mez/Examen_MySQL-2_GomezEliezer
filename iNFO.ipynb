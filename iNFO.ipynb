{
 "cells": [
  {
   "cell_type": "markdown",
   "metadata": {},
   "source": [
    "1. **Complejos Deportivos:**\n",
    "    - Los complejos deportivos están especializados en un único deporte.\n",
    "    - Cada complejo deportivo tiene una localización específica, un jefe de organización individual y un área total ocupada.\n",
    "2. **Complejos Polideportivos:**\n",
    "    - Los complejos polideportivos albergan múltiples deportes, con áreas designadas para cada uno y un indicador de localización.\n",
    "    - Al igual que los complejos deportivos, los polideportivos tienen una localización, un jefe de organización individual y un área total ocupada.\n",
    "3. **Información Específica para Cada Tipo de Sede:**\n",
    "    - Se mantiene información específica para cada tipo de sede, como el número de complejos y su presupuesto aproximado.\n",
    "4. **Eventos en los Complejos:**\n",
    "    - Cada complejo, ya sea deportivo o polideportivo, celebra eventos.\n",
    "    - Para cada evento se registra información detallada, incluyendo fecha, duración, número de participantes y número de comisarios.\n",
    "5. **Comisarios y su Involucramiento en Eventos:**\n",
    "    - Se mantiene una lista de todos los comisarios, identificando si desempeñan el papel de juez u observador en cada evento.\n",
    "    - La relación entre comisarios y eventos se registra para rastrear su participación específica.\n",
    "6. **Equipamiento Necesario:**\n",
    "    - Tanto para eventos como para el mantenimiento de los complejos, se requiere cierto equipamiento específico, como arcos, pértigas, barras paralelas, etc."
   ]
  }
 ],
 "metadata": {
  "language_info": {
   "name": "python"
  }
 },
 "nbformat": 4,
 "nbformat_minor": 2
}
