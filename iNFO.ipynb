{
 "cells": [
  {
   "cell_type": "markdown",
   "metadata": {},
   "source": [
    "1. **Complejos Deportivos:**\n",
    "    - Los complejos deportivos están especializados en un único deporte.\n",
    "    - Cada complejo deportivo tiene una localización específica, un jefe de organización individual y un área total ocupada.\n",
    "2. **Complejos Polideportivos:**\n",
    "    - Los complejos polideportivos albergan múltiples deportes, con áreas designadas para cada uno y un indicador de localización.\n",
    "    - Al igual que los complejos deportivos, los polideportivos tienen una localización, un jefe de organización individual y un área total ocupada.\n",
    "3. **Información Específica para Cada Tipo de Sede:**\n",
    "    - Se mantiene información específica para cada tipo de sede, como el número de complejos y su presupuesto aproximado.\n",
    "4. **Eventos en los Complejos:**\n",
    "    - Cada complejo, ya sea deportivo o polideportivo, celebra eventos.\n",
    "    - Para cada evento se registra información detallada, incluyendo fecha, duración, número de participantes y número de comisarios.\n",
    "5. **Comisarios y su Involucramiento en Eventos:**\n",
    "    - Se mantiene una lista de todos los comisarios, identificando si desempeñan el papel de juez u observador en cada evento.\n",
    "    - La relación entre comisarios y eventos se registra para rastrear su participación específica.\n",
    "6. **Equipamiento Necesario:**\n",
    "    - Tanto para eventos como para el mantenimiento de los complejos, se requiere cierto equipamiento específico, como arcos, pértigas, barras paralelas, etc."
   ]
  },
  {
   "cell_type": "markdown",
   "metadata": {},
   "source": [
    "\n",
    "\n",
    "---\n",
    "\n",
    "1. Consulta de Todos los Eventos en un Complejo Deportivo Específico.\n",
    "2. Consulta de Comisarios Asignados a un Evento en Particular.\n",
    "3. Consulta de Todos los Eventos en un Rango de Fechas.\n",
    "4. Consulta del Número Total de Comisarios Asignados a Eventos.\n",
    "5. Consulta de Complejos Polideportivos con Área Total Ocupada Superior a un Valor Específico.\n",
    "6. Consulta de Eventos con Número de Participantes Mayor que la Media.\n",
    "7. Consulta de Equipamiento Necesario para un Evento Específico.\n",
    "8. Consulta de Eventos Celebrados en Complejos Deportivos con Jefe de Organización Específico.\n",
    "9. Consulta de Complejos Polideportivos sin Eventos Celebrados.\n",
    "10. Consulta de Comisarios que Actúan como Jueces en Todos los Eventos."
   ]
  }
 ],
 "metadata": {
  "language_info": {
   "name": "python"
  }
 },
 "nbformat": 4,
 "nbformat_minor": 2
}
